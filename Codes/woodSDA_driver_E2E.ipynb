{
 "cells": [
  {
   "cell_type": "code",
   "execution_count": 15,
   "metadata": {},
   "outputs": [
    {
     "name": "stdout",
     "output_type": "stream",
     "text": [
      "The autoreload extension is already loaded. To reload it, use:\n",
      "  %reload_ext autoreload\n"
     ]
    }
   ],
   "source": [
    "import pandas as pd \n",
    "import numpy as np\n",
    "import matplotlib.pyplot as plt\n",
    "import os \n",
    "import re \n",
    "import sys\n",
    "import csv\n",
    "import math\n",
    "from distutils.dir_util import copy_tree\n",
    "from pathlib import Path\n",
    "\n",
    "import subprocess\n",
    "import json\n",
    "\n",
    "import subprocess\n",
    "import time\n",
    "\n",
    "# rootDir = os.getcwd()\n",
    "# rootDir = r'C:\\Users\\Laxman\\Desktop\\autoWoodSDA\\Auto-WoodSDA'\n",
    "rootDir = r'/Users/laxmandahal/Desktop/UCLA/Phd/Research/woodSDA/autoWoodSDA_public'\n",
    "\n",
    "\n",
    "pd.set_option('display.max_colwidth', 100)\n",
    "%load_ext autoreload\n",
    "%autoreload 2"
   ]
  },
  {
   "cell_type": "markdown",
   "metadata": {},
   "source": [
    "## Design Module:\n",
    "The design module designs the building per input specifications and outputs design summary with shear wall schedule for each story.\n",
    "\n",
    "Note: To remove redundancies, ```design_and_generate_model``` implements design module in its entirety and some aspects of structural module. In particular, it creates the OpenSees models.\n",
    "\n",
    "Three individual models are created for Modal, Pushover, and Dyanmic analysis. The flags ___generate_static_models___, and ___generate_dynamic_models___ can be used to specify the specific model to be generated whil ___RunPushoverSwitch___ can be used to automatically run the pushover analysis. If pushover analysis is turned on, the static models need to be created. "
   ]
  },
  {
   "cell_type": "code",
   "execution_count": 16,
   "metadata": {},
   "outputs": [],
   "source": [
    "from run_designModule import design_and_generate_model\n",
    "dataDir = os.path.join(rootDir, 'Databases')\n",
    "baseline_BIM = json.load(open(os.path.join(dataDir, 'Baseline_archetype_info_w_periods.json')))"
   ]
  },
  {
   "cell_type": "code",
   "execution_count": 23,
   "metadata": {},
   "outputs": [],
   "source": [
    "buildingID = 'MFD6B'"
   ]
  },
  {
   "cell_type": "code",
   "execution_count": 17,
   "metadata": {},
   "outputs": [
    {
     "name": "stdout",
     "output_type": "stream",
     "text": [
      "Missing Risk Category detected. Assigned \"II\" as the default risk category\n",
      "Missing response modification factor (R) detected. Assigned 6.5 as the default R value\n",
      "Missing deflection amplification factor (Cd) detected. Assigned 4 as the default Cd value\n",
      "Missing design importance factor (Ie) detected. Assigned 1.0 as the default Ie value\n",
      "Successfully generated code-compliant design!!\n",
      "Model creation for MFD6B took 4.932276010513306 seconds\n"
     ]
    }
   ],
   "source": [
    "designModule = design_and_generate_model(building_id=buildingID,\n",
    "                                          baseline_building_info=baseline_BIM,\n",
    "                                          save_design_csv=False,\n",
    "                                         generate_static_models=False, \n",
    "                                         run_pushover=False,\n",
    "                                         generate_dynamic_models=False\n",
    "                                          )"
   ]
  },
  {
   "cell_type": "code",
   "execution_count": 18,
   "metadata": {
    "scrolled": false
   },
   "outputs": [
    {
     "data": {
      "text/html": [
       "<div>\n",
       "<style scoped>\n",
       "    .dataframe tbody tr th:only-of-type {\n",
       "        vertical-align: middle;\n",
       "    }\n",
       "\n",
       "    .dataframe tbody tr th {\n",
       "        vertical-align: top;\n",
       "    }\n",
       "\n",
       "    .dataframe thead th {\n",
       "        text-align: right;\n",
       "    }\n",
       "</style>\n",
       "<table border=\"1\" class=\"dataframe\">\n",
       "  <thead>\n",
       "    <tr style=\"text-align: right;\">\n",
       "      <th></th>\n",
       "      <th></th>\n",
       "      <th>Shear Wall Assembly</th>\n",
       "      <th>Ga(k/in)</th>\n",
       "      <th>level</th>\n",
       "      <th>LRFD(klf)</th>\n",
       "      <th>Drift(in)</th>\n",
       "      <th>D/C Ratio</th>\n",
       "      <th>OpenSees Tag</th>\n",
       "    </tr>\n",
       "  </thead>\n",
       "  <tbody>\n",
       "    <tr>\n",
       "      <th rowspan=\"4\" valign=\"top\">swDesign_gridA_wall1</th>\n",
       "      <th>0</th>\n",
       "      <td>Use 1/2in GWB with 5d cooler nails @ 7in o.c. spacing</td>\n",
       "      <td>5.2</td>\n",
       "      <td>4</td>\n",
       "      <td>0.160</td>\n",
       "      <td>1.194247</td>\n",
       "      <td>0.667158</td>\n",
       "      <td>14</td>\n",
       "    </tr>\n",
       "    <tr>\n",
       "      <th>1</th>\n",
       "      <td>Use 7/16in WSP on 1 side with 8d nails @ 6o.c. spacing</td>\n",
       "      <td>15.0</td>\n",
       "      <td>3</td>\n",
       "      <td>0.384</td>\n",
       "      <td>0.909138</td>\n",
       "      <td>0.833948</td>\n",
       "      <td>1</td>\n",
       "    </tr>\n",
       "    <tr>\n",
       "      <th>2</th>\n",
       "      <td>Use 7/16in WSP on 1 side with 8d nails @ 3o.c. spacing</td>\n",
       "      <td>28.0</td>\n",
       "      <td>2</td>\n",
       "      <td>0.720</td>\n",
       "      <td>0.789733</td>\n",
       "      <td>0.889545</td>\n",
       "      <td>2</td>\n",
       "    </tr>\n",
       "    <tr>\n",
       "      <th>3</th>\n",
       "      <td>Use 7/16in WSP on 1 side with 8d nails @ 2o.c. spacing</td>\n",
       "      <td>42.0</td>\n",
       "      <td>1</td>\n",
       "      <td>0.936</td>\n",
       "      <td>0.798177</td>\n",
       "      <td>0.971060</td>\n",
       "      <td>5</td>\n",
       "    </tr>\n",
       "    <tr>\n",
       "      <th>swDesign_gridA_wall2</th>\n",
       "      <th>0</th>\n",
       "      <td>Use 1/2in GWB with 5d cooler nails @ 7in o.c. spacing</td>\n",
       "      <td>5.2</td>\n",
       "      <td>4</td>\n",
       "      <td>0.160</td>\n",
       "      <td>1.111708</td>\n",
       "      <td>0.667279</td>\n",
       "      <td>14</td>\n",
       "    </tr>\n",
       "    <tr>\n",
       "      <th>...</th>\n",
       "      <th>...</th>\n",
       "      <td>...</td>\n",
       "      <td>...</td>\n",
       "      <td>...</td>\n",
       "      <td>...</td>\n",
       "      <td>...</td>\n",
       "      <td>...</td>\n",
       "      <td>...</td>\n",
       "    </tr>\n",
       "    <tr>\n",
       "      <th>swDesign_grid7_wall1</th>\n",
       "      <th>3</th>\n",
       "      <td>Use 7/16in WSP on 1 side with 8d nails @ 2o.c. spacing</td>\n",
       "      <td>42.0</td>\n",
       "      <td>1</td>\n",
       "      <td>0.936</td>\n",
       "      <td>1.072986</td>\n",
       "      <td>0.874041</td>\n",
       "      <td>5</td>\n",
       "    </tr>\n",
       "    <tr>\n",
       "      <th rowspan=\"4\" valign=\"top\">swDesign_grid7_wall2</th>\n",
       "      <th>0</th>\n",
       "      <td>Use 1/2in GWB with 5d cooler nails @ 7in o.c. spacing</td>\n",
       "      <td>5.2</td>\n",
       "      <td>4</td>\n",
       "      <td>0.160</td>\n",
       "      <td>1.314920</td>\n",
       "      <td>0.600503</td>\n",
       "      <td>14</td>\n",
       "    </tr>\n",
       "    <tr>\n",
       "      <th>1</th>\n",
       "      <td>Use 3/8in WSP on 1 side with 6d nails @ 6o.c. spacing</td>\n",
       "      <td>11.0</td>\n",
       "      <td>3</td>\n",
       "      <td>0.320</td>\n",
       "      <td>1.222535</td>\n",
       "      <td>0.900754</td>\n",
       "      <td>3</td>\n",
       "    </tr>\n",
       "    <tr>\n",
       "      <th>2</th>\n",
       "      <td>Use 15/32in WSP on 1 side with 8d nails @ 4o.c. spacing</td>\n",
       "      <td>19.0</td>\n",
       "      <td>2</td>\n",
       "      <td>0.608</td>\n",
       "      <td>1.279434</td>\n",
       "      <td>0.948162</td>\n",
       "      <td>12</td>\n",
       "    </tr>\n",
       "    <tr>\n",
       "      <th>3</th>\n",
       "      <td>Use 7/16in WSP on 1 side with 8d nails @ 2o.c. spacing</td>\n",
       "      <td>42.0</td>\n",
       "      <td>1</td>\n",
       "      <td>0.936</td>\n",
       "      <td>1.072986</td>\n",
       "      <td>0.874041</td>\n",
       "      <td>5</td>\n",
       "    </tr>\n",
       "  </tbody>\n",
       "</table>\n",
       "<p>120 rows × 7 columns</p>\n",
       "</div>"
      ],
      "text/plain": [
       "                                                            Shear Wall Assembly  ...  OpenSees Tag\n",
       "swDesign_gridA_wall1 0    Use 1/2in GWB with 5d cooler nails @ 7in o.c. spacing  ...            14\n",
       "                     1   Use 7/16in WSP on 1 side with 8d nails @ 6o.c. spacing  ...             1\n",
       "                     2   Use 7/16in WSP on 1 side with 8d nails @ 3o.c. spacing  ...             2\n",
       "                     3   Use 7/16in WSP on 1 side with 8d nails @ 2o.c. spacing  ...             5\n",
       "swDesign_gridA_wall2 0    Use 1/2in GWB with 5d cooler nails @ 7in o.c. spacing  ...            14\n",
       "...                                                                         ...  ...           ...\n",
       "swDesign_grid7_wall1 3   Use 7/16in WSP on 1 side with 8d nails @ 2o.c. spacing  ...             5\n",
       "swDesign_grid7_wall2 0    Use 1/2in GWB with 5d cooler nails @ 7in o.c. spacing  ...            14\n",
       "                     1    Use 3/8in WSP on 1 side with 6d nails @ 6o.c. spacing  ...             3\n",
       "                     2  Use 15/32in WSP on 1 side with 8d nails @ 4o.c. spacing  ...            12\n",
       "                     3   Use 7/16in WSP on 1 side with 8d nails @ 2o.c. spacing  ...             5\n",
       "\n",
       "[120 rows x 7 columns]"
      ]
     },
     "execution_count": 18,
     "metadata": {},
     "output_type": "execute_result"
    }
   ],
   "source": [
    "designModule.final_design"
   ]
  },
  {
   "cell_type": "markdown",
   "metadata": {},
   "source": [
    "## Structural Module\n",
    "\n",
    "If the OpenSees models have not been generated in the previous step, they are generated as follows:"
   ]
  },
  {
   "cell_type": "code",
   "execution_count": 19,
   "metadata": {
    "scrolled": true
   },
   "outputs": [],
   "source": [
    "sys.path.append(os.path.join(rootDir, *['Codes','structuralModule']))\n",
    "from BuildingModelClass import BuildingModel\n",
    "from utils_opensees import *"
   ]
  },
  {
   "cell_type": "code",
   "execution_count": 21,
   "metadata": {},
   "outputs": [
    {
     "name": "stdout",
     "output_type": "stream",
     "text": [
      "Missing Risk Category detected. Assigned \"II\" as the default risk category\n",
      "Missing response modification factor (R) detected. Assigned 6.5 as the default R value\n",
      "Missing deflection amplification factor (Cd) detected. Assigned 4 as the default Cd value\n",
      "Missing design importance factor (Ie) detected. Assigned 1.0 as the default Ie value\n"
     ]
    },
    {
     "data": {
      "text/html": [
       "<div>\n",
       "<style scoped>\n",
       "    .dataframe tbody tr th:only-of-type {\n",
       "        vertical-align: middle;\n",
       "    }\n",
       "\n",
       "    .dataframe tbody tr th {\n",
       "        vertical-align: top;\n",
       "    }\n",
       "\n",
       "    .dataframe thead th {\n",
       "        text-align: right;\n",
       "    }\n",
       "</style>\n",
       "<table border=\"1\" class=\"dataframe\">\n",
       "  <thead>\n",
       "    <tr style=\"text-align: right;\">\n",
       "      <th></th>\n",
       "      <th>BuildingID</th>\n",
       "      <th>Layout Type</th>\n",
       "      <th>SiteID</th>\n",
       "      <th>Latitude</th>\n",
       "      <th>Longitude</th>\n",
       "      <th>Site Class</th>\n",
       "      <th>Risk Category</th>\n",
       "      <th>R</th>\n",
       "      <th>Cd</th>\n",
       "      <th>Ie</th>\n",
       "      <th>Allowable Drift</th>\n",
       "      <th>Design Year</th>\n",
       "      <th>Ss(g)</th>\n",
       "      <th>S1(g)</th>\n",
       "      <th>wallMaterial</th>\n",
       "      <th>seismicWeight</th>\n",
       "    </tr>\n",
       "  </thead>\n",
       "  <tbody>\n",
       "    <tr>\n",
       "      <th>0</th>\n",
       "      <td>MFD6B</td>\n",
       "      <td>s4_96x48</td>\n",
       "      <td>1</td>\n",
       "      <td>33.9721</td>\n",
       "      <td>-118.42177</td>\n",
       "      <td>D</td>\n",
       "      <td>II</td>\n",
       "      <td>6.5</td>\n",
       "      <td>4.0</td>\n",
       "      <td>1.0</td>\n",
       "      <td>0.02</td>\n",
       "      <td>2020</td>\n",
       "      <td>1.855</td>\n",
       "      <td>0.654</td>\n",
       "      <td>Stucco_GWB</td>\n",
       "      <td>Normal</td>\n",
       "    </tr>\n",
       "  </tbody>\n",
       "</table>\n",
       "</div>"
      ],
      "text/plain": [
       "  BuildingID Layout Type  SiteID  ...  S1(g)  wallMaterial seismicWeight\n",
       "0      MFD6B    s4_96x48       1  ...  0.654    Stucco_GWB        Normal\n",
       "\n",
       "[1 rows x 16 columns]"
      ]
     },
     "execution_count": 21,
     "metadata": {},
     "output_type": "execute_result"
    }
   ],
   "source": [
    "## structural module requires input df\n",
    "from designModule.check_user_inputs import check_and_complete_inputs\n",
    "buildingID = 'MFD6B'\n",
    "\n",
    "df_inputs = pd.read_csv(os.path.join(rootDir, 'Buildings_input_info.csv'))\n",
    "df_inputs = df_inputs[df_inputs['BuildingID']==buildingID]\n",
    "df_inputs = check_and_complete_inputs(input_df = df_inputs)\n",
    "df_inputs.head()"
   ]
  },
  {
   "cell_type": "code",
   "execution_count": 7,
   "metadata": {},
   "outputs": [
    {
     "name": "stdout",
     "output_type": "stream",
     "text": [
      "[0.47873545671261836, 0.44088576850062644, 0.40483258086087187, 0.17383062505885144]\n",
      "13.003056426843008 Minutes\n"
     ]
    }
   ],
   "source": [
    "start = time.time()\n",
    "\n",
    "InfoDirectory = os.path.join(rootDir, *['BuildingInfo', caseID])\n",
    "ModelClass = BuildingModel(caseID)\n",
    "ModelClass.read_in_txt_inputs(caseID, InfoDirectory, df_inputs)\n",
    "\n",
    "os.chdir(ModelDirectory+'/%s'%caseID)\n",
    "period = generateModalAnalysisModel(ModelClass.ID, ModelClass, rootDir)\n",
    "# Turn off RunPushoverSwitch to speed up the model creation \n",
    "generatePushoverAnalysisModel(ModelClass.ID, ModelClass, rootDir,\n",
    "                           GenerateModelSwitch = True, RunPushoverSwitch = True)\n",
    "generateDynamicAnalysisModel(ModelClass.ID, ModelClass, rootDir, period,\n",
    "                           GenerateModelSwitch = True)\n",
    "print(period)\n",
    "\n",
    "finish = time.time()\n",
    "print((finish - start)/60, 'Minutes')"
   ]
  },
  {
   "cell_type": "code",
   "execution_count": 8,
   "metadata": {
    "collapsed": true
   },
   "outputs": [],
   "source": [
    "# BuildingList = [caseID]"
   ]
  },
  {
   "cell_type": "markdown",
   "metadata": {},
   "source": [
    "### Implementing a part of damage Module to extract results from nonlinear static analysis"
   ]
  },
  {
   "cell_type": "code",
   "execution_count": 22,
   "metadata": {},
   "outputs": [],
   "source": [
    "sys.path.append(os.path.join(rootDir, *['Codes', 'damageModule']))\n",
    "\n",
    "import ExtractPushoverData as epd"
   ]
  },
  {
   "cell_type": "markdown",
   "metadata": {},
   "source": [
    "#### Eigen Analysis summary"
   ]
  },
  {
   "cell_type": "code",
   "execution_count": 24,
   "metadata": {},
   "outputs": [
    {
     "data": {
      "text/html": [
       "<div>\n",
       "<style scoped>\n",
       "    .dataframe tbody tr th:only-of-type {\n",
       "        vertical-align: middle;\n",
       "    }\n",
       "\n",
       "    .dataframe tbody tr th {\n",
       "        vertical-align: top;\n",
       "    }\n",
       "\n",
       "    .dataframe thead th {\n",
       "        text-align: right;\n",
       "    }\n",
       "</style>\n",
       "<table border=\"1\" class=\"dataframe\">\n",
       "  <thead>\n",
       "    <tr style=\"text-align: right;\">\n",
       "      <th></th>\n",
       "      <th>0</th>\n",
       "      <th>1</th>\n",
       "      <th>2</th>\n",
       "    </tr>\n",
       "  </thead>\n",
       "  <tbody>\n",
       "    <tr>\n",
       "      <th>0</th>\n",
       "      <td>0.478735</td>\n",
       "      <td>0.440886</td>\n",
       "      <td>0.404833</td>\n",
       "    </tr>\n",
       "  </tbody>\n",
       "</table>\n",
       "</div>"
      ],
      "text/plain": [
       "          0         1         2\n",
       "0  0.478735  0.440886  0.404833"
      ]
     },
     "execution_count": 24,
     "metadata": {},
     "output_type": "execute_result"
    }
   ],
   "source": [
    "eigenDirectory = os.path.join(rootDir, *['BuildingModels',buildingID,'EigenValueAnalysis','Analysis_Results'])\n",
    "periods = extractedps.ExtractPeriod(eigenDirectory)\n",
    "periods"
   ]
  },
  {
   "cell_type": "markdown",
   "metadata": {},
   "source": [
    "### Nonlinear static pushover curve"
   ]
  },
  {
   "cell_type": "code",
   "execution_count": 30,
   "metadata": {},
   "outputs": [],
   "source": [
    "PushoverX = epd.pushoverdata(os.path.join(BaseDirectory, 'PushoverAnalysis'),\n",
    "                             'X', 'roof', SeismicWeight, numFloors)\n",
    "PushoverResultsX = epd.extractpushoverpoints(PushoverX)\n",
    "\n",
    "PushoverResultsX = np.append(np.array(PushoverResultsX), PushoverX[1][-1])\n",
    "\n",
    "PushoverY = epd.pushoverdata(os.path.join(BaseDirectory, 'PushoverAnalysis'),\n",
    "                             'Z', 'roof', SeismicWeight, numFloors)\n",
    "PushoverResultsY = epd.extractpushoverpoints(PushoverY)\n",
    "\n",
    "PushoverResultsY = np.append(np.array(PushoverResultsY), PushoverY[1][-1])"
   ]
  },
  {
   "cell_type": "code",
   "execution_count": 33,
   "metadata": {},
   "outputs": [
    {
     "data": {
      "image/png": "[encoded data removed]",
      "text/plain": [
       "<Figure size 1000x600 with 1 Axes>"
      ]
     },
     "metadata": {},
     "output_type": "display_data"
    }
   ],
   "source": [
    "plt.figure(figsize = (10,6))\n",
    "plt.plot(PushoverX[1],PushoverX[0],label = 'X-dir')\n",
    "plt.plot(PushoverY[1],PushoverY[0],label = 'Z-dir')\n",
    "\n",
    "plt.scatter(PushoverResultsX[1],PushoverResultsX[0])\n",
    "plt.scatter(PushoverResultsX[2], 0.8*PushoverResultsX[0])\n",
    "\n",
    "plt.scatter(PushoverResultsY[1],PushoverResultsY[0])\n",
    "plt.scatter(PushoverResultsY[2], 0.8*PushoverResultsY[0])\n",
    "\n",
    "plt.xlabel('Roof Drift (%)', fontsize=18)\n",
    "plt.ylabel('Normalized Base Shear (V/M)', fontsize=18)\n",
    "plt.title(f'Pushover Curve: {buildingID}', fontsize = 16)\n",
    "plt.legend()\n",
    "plt.show()\n"
   ]
  },
  {
   "cell_type": "code",
   "execution_count": 34,
   "metadata": {},
   "outputs": [
    {
     "data": {
      "text/html": [
       "<div>\n",
       "<style scoped>\n",
       "    .dataframe tbody tr th:only-of-type {\n",
       "        vertical-align: middle;\n",
       "    }\n",
       "\n",
       "    .dataframe tbody tr th {\n",
       "        vertical-align: top;\n",
       "    }\n",
       "\n",
       "    .dataframe thead th {\n",
       "        text-align: right;\n",
       "    }\n",
       "</style>\n",
       "<table border=\"1\" class=\"dataframe\">\n",
       "  <thead>\n",
       "    <tr style=\"text-align: right;\">\n",
       "      <th></th>\n",
       "      <th>Peak Strength</th>\n",
       "      <th>Drift at Peak</th>\n",
       "      <th>Drift at 80%Peak</th>\n",
       "      <th>Max Drift</th>\n",
       "    </tr>\n",
       "  </thead>\n",
       "  <tbody>\n",
       "    <tr>\n",
       "      <th>X</th>\n",
       "      <td>0.475575</td>\n",
       "      <td>0.010408</td>\n",
       "      <td>0.014069</td>\n",
       "      <td>0.035421</td>\n",
       "    </tr>\n",
       "    <tr>\n",
       "      <th>Y</th>\n",
       "      <td>0.494818</td>\n",
       "      <td>0.012431</td>\n",
       "      <td>0.016085</td>\n",
       "      <td>0.039735</td>\n",
       "    </tr>\n",
       "  </tbody>\n",
       "</table>\n",
       "</div>"
      ],
      "text/plain": [
       "   Peak Strength  Drift at Peak  Drift at 80%Peak  Max Drift\n",
       "X       0.475575       0.010408          0.014069   0.035421\n",
       "Y       0.494818       0.012431          0.016085   0.039735"
      ]
     },
     "execution_count": 34,
     "metadata": {},
     "output_type": "execute_result"
    }
   ],
   "source": [
    "df = pd.DataFrame([PushoverResultsX, PushoverResultsY], \n",
    "                  columns = ['Peak Strength', 'Drift at Peak', 'Drift at 80%Peak', 'Max Drift'],\n",
    "                  index = ['X', 'Y'])\n",
    "df.head()"
   ]
  },
  {
   "cell_type": "markdown",
   "metadata": {},
   "source": [
    "The results from nonlinear static analysis looks good. Now, let's go back to the structural module to run nonlinear response history analysis (NLRHA)\n",
    "\n",
    "### Run dynamic analysis- Structural Module\n",
    "\n",
    "Files required to run dynamic analysis has been created in the previous step, the following code iteratively runs the dynamic analysis upto the specified number of Ground motions.\n"
   ]
  },
  {
   "cell_type": "code",
   "execution_count": 15,
   "metadata": {},
   "outputs": [
    {
     "name": "stdout",
     "output_type": "stream",
     "text": [
      "Hazard Level 1 GM Pair 1 with Pairing ID 1 has finished successfully in 25.873s!\n",
      "Hazard Level 1 GM Pair 2 with Pairing ID 1 has finished successfully in 64.328s!\n",
      "The total runtime is 2.500 minutes\n"
     ]
    }
   ],
   "source": [
    "### MSA using selected GM records for 5 hazard levels. Location: Boelter Hall\n",
    "Scale_Sa_GM = '0.403 0.975 1.307 1.676 2.237'\n",
    "GM_Num = '50 47 47 48 47'\n",
    "\n",
    "# GM_ID = 1 # GM pair\n",
    "GM_folder = r'GM_sets/BoelterHall'\n",
    "\n",
    "Model_Name = buildingID\n",
    "\n",
    "\n",
    "# start_ID is tarting index which starts from 1 instead of 0\n",
    "# finish_ID is the total number of GMs in multiple stripe or incremental dynamic analysis\n",
    "# for eg: if you have 10 hazard levels with 22 GM pairs, finish_id should be 10*22 + 1\n",
    "start_ID, finish_ID = 1, 3 # for demonstration I'm running dynamic analysis for 2 ground motion pairs\n",
    "acc_time = 0\n",
    "start_time = time.time()\n",
    "\n",
    "\n",
    "## following chucks of codes run dynamic analysis for each ground motion pair iteratively\n",
    "# Pairing ID == 1 i.e. apply H1 motion in X and H2 motion in Z\n",
    "for GM_ID in range(start_ID, finish_ID):\n",
    "    s = time.time()\n",
    "    SetupDyamaicAnalysis(ModelDirectory, Scale_Sa_GM, GM_Num, GM_ID, GM_folder, Model_Name, 1)\n",
    "    os.chdir(ModelDirectory)\n",
    "    r = os.system('OpenSees RunDynamic_Single.tcl')\n",
    "    f = time.time()\n",
    "    if not r: \n",
    "        print('Hazard Level %i GM Pair %s with Pairing ID %i has finished successfully in %.3fs!'%(int(GM_ID/50)+1, str(GM_ID-int(GM_ID/50)), 1, f-s))\n",
    "        os.remove('RunDynamic_Single.tcl')\n",
    "        acc_time += (f-s)\n",
    "        #print('Estimate remaining time %.3fs!'%(acc_time/(GM_ID - start_ID)*(finish_ID - GM_ID)))\n",
    "    else: \n",
    "        print('GM Pair %s has failed'%str(GM_ID))\n",
    "        break\n",
    "\n",
    "# Pairing ID == 2 i.e. apply H2 motion in X and H1 motion in Z\n",
    "for GM_ID in range(start_ID, finish_ID):\n",
    "    s = time.time()\n",
    "    SetupDyamaicAnalysis(ModelDirectory, Scale_Sa_GM, GM_Num, GM_ID, GM_folder, Model_Name, 2)\n",
    "    os.chdir(ModelDirectory)\n",
    "    r = os.system('OpenSees RunDynamic_Single.tcl')\n",
    "    f = time.time()\n",
    "    if not r: \n",
    "#         print('Hazard Level %i GM Pair %s with Pairing ID %i has finished successfully in %.3fs!'%(int(GM_ID/22)+1, str(GM_ID-int(GM_ID/22)), 2, f-s))\n",
    "        os.remove('RunDynamic_Single.tcl')\n",
    "        acc_time += (f-s)\n",
    "        #print('Estimate remaining time %.3fs!'%(acc_time/(GM_ID - start_ID)*(finish_ID - GM_ID)))\n",
    "    else: \n",
    "        print('GM Pair %s has failed'%str(GM_ID))\n",
    "        break\n",
    "\n",
    "finish_time = time.time()\n",
    "print('The total runtime is %.3f minutes' %(int(finish_time-start_time)/60))"
   ]
  },
  {
   "cell_type": "markdown",
   "metadata": {},
   "source": [
    "## Damage Module\n",
    "\n",
    "Execute the following lines of only after all the dynamic analyses have been completed for all the hazard levels"
   ]
  },
  {
   "cell_type": "code",
   "execution_count": 16,
   "metadata": {
    "collapsed": true
   },
   "outputs": [],
   "source": [
    "# import ExtractMaxEDP as extractedps\n",
    "\n",
    "# NumGM = np.array([50, 47, 47, 48, 47])\n",
    "\n",
    "# CollapseCriteria = 0.1\n",
    "# DemolitionCriteria = 0.01\n",
    "\n",
    "# HazardLevel = np.array([0.403, 0.975, 1.307, 1.676, 2.237])\n",
    "\n",
    "# dynamicDirectory = os.path.join(cwd, *['BuildingModels',buildingID,'DynamicAnalysis'])\n",
    "\n",
    "# sdr = extractedps.ExtractSDR(dynamicDirectory, HazardLevel, NumGM, numFloors)\n",
    "# rdr = extractedps.ExtractRDR(dynamicDirectory, HazardLevel, NumGM, NumStory)\n",
    "# gmDirectory = r'C:\\Users\\Laxman\\Desktop\\Python Tool\\BuildingModels\\GM_sets\\BoelterHall'\n",
    "# PGA = extractedps.ExtractPGA(gmDirectory, HazardLevel, NumGM)\n",
    "# pfa = extractedps.ExtractPFA(dynamicDirectory, HazardLevel, NumGM, NumStory, PGA, g = 386.4)\n"
   ]
  },
  {
   "cell_type": "markdown",
   "metadata": {
    "collapsed": true
   },
   "source": [
    "#### Building-level fragilities such as collapse, and demolition fragilities\n",
    "\n",
    "Please refer to ```Plot_Results.ipynb``` file located in __postProcessing__ folder for code to fit the fragility"
   ]
  },
  {
   "cell_type": "markdown",
   "metadata": {},
   "source": [
    "Since running NLRHA takes a long time, here, I am importing the processed EDP data for the example building (MFD6B) presented in the paper. "
   ]
  },
  {
   "cell_type": "code",
   "execution_count": 37,
   "metadata": {},
   "outputs": [],
   "source": [
    "resultDirectory = os.path.join(rootDir, 'Results')\n",
    "edp_data_dir = os.path.join(resultDirectory, buildingID, 'EDP_data')\n",
    "pfa = pd.read_csv(os.path.join(edp_data_dir, 'PFA.csv'), header=None)\n",
    "sdr = pd.read_csv(os.path.join(edp_data_dir,'SDR.csv'), header=None)\n",
    "rdr = pd.read_csv(os.path.join(edp_data_dir,'RDR.csv'), header=None)"
   ]
  },
  {
   "cell_type": "markdown",
   "metadata": {},
   "source": [
    "## Loss Module\n",
    "\n",
    "The loss module implements PELICUN to assess economic loss per FEMA P-58 methodology. It also implements MATLAB-based beta ATC-138 Functional Recovery methodology to assess recovery times (reoccupancy, functional recovery, etc)"
   ]
  },
  {
   "cell_type": "markdown",
   "metadata": {},
   "source": [
    "### Implementing Pelicun\n",
    "\n",
    "The ```driverPelicun_E2E.py``` file automatically generates all the input files required by Pelicun and runs Pelicun to generate the Monte Carlo loss samples. It also formats the component-level damage samples in the ATC-138 friendly format. The input files required by ATC-138 are also created here."
   ]
  },
  {
   "cell_type": "code",
   "execution_count": 39,
   "metadata": {},
   "outputs": [],
   "source": [
    "from lossModule.driverPelicun_E2E import main"
   ]
  },
  {
   "cell_type": "code",
   "execution_count": 40,
   "metadata": {},
   "outputs": [],
   "source": [
    "N_story = int(df_inputs['Layout Type'].values[0][1])\n",
    "building_length = float(df_inputs['Layout Type'].values[0].split('_')[1].split('x')[0])\n",
    "building_width = float(df_inputs['Layout Type'].values[0].split('_')[1].split('x')[1])\n"
   ]
  },
  {
   "cell_type": "code",
   "execution_count": 41,
   "metadata": {},
   "outputs": [
    {
     "name": "stdout",
     "output_type": "stream",
     "text": [
      "Initiating PELICUN Loss of MFD6B...\n",
      "2024-05-31T19:33:36Z 0 realizations removed from the demand input because they exceed the collapse limit. The remaining sample size: 44\n",
      "Finished PELICUN Loss of MFD6B @ IL-1 \n",
      "2024-05-31T19:33:47Z 0 realizations removed from the demand input because they exceed the collapse limit. The remaining sample size: 44\n",
      "Finished PELICUN Loss of MFD6B @ IL-2 \n",
      "2024-05-31T19:34:00Z 0 realizations removed from the demand input because they exceed the collapse limit. The remaining sample size: 44\n",
      "Finished PELICUN Loss of MFD6B @ IL-3 \n",
      "2024-05-31T19:34:14Z 0 realizations removed from the demand input because they exceed the collapse limit. The remaining sample size: 44\n",
      "Finished PELICUN Loss of MFD6B @ IL-4 \n",
      "2024-05-31T19:34:30Z 0 realizations removed from the demand input because they exceed the collapse limit. The remaining sample size: 44\n",
      "Finished PELICUN Loss of MFD6B @ IL-5 \n",
      "2024-05-31T19:34:46Z 0 realizations removed from the demand input because they exceed the collapse limit. The remaining sample size: 44\n",
      "Finished PELICUN Loss of MFD6B @ IL-6 \n",
      "2024-05-31T19:35:02Z 0 realizations removed from the demand input because they exceed the collapse limit. The remaining sample size: 44\n",
      "Finished PELICUN Loss of MFD6B @ IL-7 \n",
      "2024-05-31T19:35:18Z 0 realizations removed from the demand input because they exceed the collapse limit. The remaining sample size: 44\n",
      "Finished PELICUN Loss of MFD6B @ IL-8 \n",
      "2024-05-31T19:35:34Z 0 realizations removed from the demand input because they exceed the collapse limit. The remaining sample size: 44\n",
      "Finished PELICUN Loss of MFD6B @ IL-9 \n",
      "2024-05-31T19:35:51Z 0 realizations removed from the demand input because they exceed the collapse limit. The remaining sample size: 44\n",
      "Finished PELICUN Loss of MFD6B @ IL-10 \n",
      "2024-05-31T19:36:07Z 0 realizations removed from the demand input because they exceed the collapse limit. The remaining sample size: 44\n",
      "Finished PELICUN Loss of MFD6B @ IL-11 \n",
      "2024-05-31T19:36:23Z 0 realizations removed from the demand input because they exceed the collapse limit. The remaining sample size: 44\n",
      "Finished PELICUN Loss of MFD6B @ IL-12 \n",
      "2024-05-31T19:36:39Z 0 realizations removed from the demand input because they exceed the collapse limit. The remaining sample size: 44\n",
      "Finished PELICUN Loss of MFD6B @ IL-13 \n",
      "2024-05-31T19:36:56Z 0 realizations removed from the demand input because they exceed the collapse limit. The remaining sample size: 44\n",
      "Finished PELICUN Loss of MFD6B @ IL-14 \n",
      "2024-05-31T19:37:12Z 1 realizations removed from the demand input because they exceed the collapse limit. The remaining sample size: 43\n",
      "Finished PELICUN Loss of MFD6B @ IL-15 \n",
      "2024-05-31T19:37:28Z 0 realizations removed from the demand input because they exceed the collapse limit. The remaining sample size: 44\n",
      "Finished PELICUN Loss of MFD6B @ IL-16 \n",
      "2024-05-31T19:37:45Z 1 realizations removed from the demand input because they exceed the collapse limit. The remaining sample size: 43\n",
      "Finished PELICUN Loss of MFD6B @ IL-17 \n",
      "2024-05-31T19:38:01Z 0 realizations removed from the demand input because they exceed the collapse limit. The remaining sample size: 44\n",
      "Finished PELICUN Loss of MFD6B @ IL-18 \n",
      "Generated ATC-138 input files for MFD6B...\n",
      "Loss module for MFD6B Took 282.33635902404785 Seconds\n"
     ]
    }
   ],
   "source": [
    "main(buildingID=buildingID,\n",
    "    num_story = N_story,\n",
    "    archetype_length= building_length, \n",
    "    archetype_width= building_width\n",
    "    )"
   ]
  },
  {
   "cell_type": "markdown",
   "metadata": {
    "collapsed": true
   },
   "source": [
    "### Implementing beta ATC-138 \n",
    "\n",
    "\n",
    "The ATC-138 methodology is a MATLAB-based tool. There are various ways to run Matlab code via Python. In this study, I use Matlab Engine API for Python to run the Matlab code. The engine API is availale as a Python package."
   ]
  },
  {
   "cell_type": "code",
   "execution_count": null,
   "metadata": {},
   "outputs": [],
   "source": [
    "import matlab.engine\n",
    "from lossModule.driverATC138_E2E import main_hazard_agnostic"
   ]
  },
  {
   "cell_type": "code",
   "execution_count": null,
   "metadata": {},
   "outputs": [],
   "source": [
    "main_hazard_agnostic(buildingID)"
   ]
  },
  {
   "cell_type": "markdown",
   "metadata": {},
   "source": [
    "__Note:__\n",
    "\n",
    "When I was developing WoodSDA, MATLAB API for Python was not natively supported on my laptop (Mac with Arm64 archetecture) which is why I am not able to demonstrate that the code works in this notebook. For my work, I used HPC cluster (Hoffman2) to run the ATC-138 code and I can confirm that the code in the above two cells are functional. Please refer to ```postProcessing/Plot_Results.ipynb``` for the reoccupancy and functional recovery time curves."
   ]
  },
  {
   "cell_type": "code",
   "execution_count": null,
   "metadata": {},
   "outputs": [],
   "source": []
  }
 ],
 "metadata": {
  "kernelspec": {
   "display_name": "Python 3 (ipykernel)",
   "language": "python",
   "name": "python3"
  },
  "language_info": {
   "codemirror_mode": {
    "name": "ipython",
    "version": 3
   },
   "file_extension": ".py",
   "mimetype": "text/x-python",
   "name": "python",
   "nbconvert_exporter": "python",
   "pygments_lexer": "ipython3",
   "version": "3.8.2"
  }
 },
 "nbformat": 4,
 "nbformat_minor": 4
}
